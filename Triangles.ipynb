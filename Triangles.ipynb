{
 "cells": [
  {
   "cell_type": "code",
   "execution_count": 1,
   "metadata": {
    "collapsed": true
   },
   "outputs": [],
   "source": [
    "import pandas as pd\n",
    "import itertools"
   ]
  },
  {
   "cell_type": "code",
   "execution_count": 2,
   "metadata": {
    "collapsed": true
   },
   "outputs": [],
   "source": [
    "df = pd.read_msgpack('triangles')"
   ]
  },
  {
   "cell_type": "code",
   "execution_count": 3,
   "metadata": {},
   "outputs": [
    {
     "name": "stdout",
     "output_type": "stream",
     "text": [
      "I got 24 triangles, correct?\n"
     ]
    },
    {
     "data": {
      "text/plain": [
       "[['1', '10', '11'],\n",
       " ['1', '10', '2'],\n",
       " ['1', '10', '9'],\n",
       " ['1', '11', '2'],\n",
       " ['1', '11', '9'],\n",
       " ['1', '2', '6'],\n",
       " ['1', '2', '7'],\n",
       " ['1', '2', '8'],\n",
       " ['1', '2', '9'],\n",
       " ['1', '3', '4'],\n",
       " ['1', '3', '5'],\n",
       " ['1', '3', '6'],\n",
       " ['1', '4', '5'],\n",
       " ['1', '4', '6'],\n",
       " ['1', '5', '6'],\n",
       " ['1', '6', '7'],\n",
       " ['1', '6', '8'],\n",
       " ['1', '7', '8'],\n",
       " ['10', '2', '7'],\n",
       " ['11', '2', '6'],\n",
       " ['2', '3', '6'],\n",
       " ['2', '8', '9'],\n",
       " ['4', '6', '8'],\n",
       " ['5', '6', '7']]"
      ]
     },
     "execution_count": 3,
     "metadata": {},
     "output_type": "execute_result"
    }
   ],
   "source": [
    "def find_used_nodes(df, node1, node2):\n",
    "    result = [node1, node2]\n",
    "    for i in df[node1][node2]:\n",
    "        if i != '0': result.append(i)\n",
    "    return list(set(result))\n",
    "\n",
    "triangles = []\n",
    "used_nodes = []\n",
    "for first_node in df.index:\n",
    "    for second_node in df.index:\n",
    "        waypoint_null = df.isnull()[second_node][first_node]\n",
    "        if waypoint_null: continue\n",
    "#         Second node now technically possible\n",
    "\n",
    "        for third_node in df.index:\n",
    "            second_waypoint_null = df.isnull()[second_node][third_node]\n",
    "            third_waypoint_null = df.isnull()[first_node][third_node]\n",
    "            if second_waypoint_null or third_waypoint_null: continue\n",
    "            \n",
    "            used_nodes = find_used_nodes(df, first_node, second_node)\n",
    "            node_used = third_node in used_nodes\n",
    "            \n",
    "            second_waypoints_used = any([x in used_nodes for x in df[second_node][third_node]])\n",
    "            used_nodes.append(find_used_nodes(df, third_node, second_node))\n",
    "            third_waypoints_used = any([x in used_nodes for x in df[first_node][third_node]])\n",
    "            \n",
    "            if any((node_used, second_waypoints_used, third_waypoints_used)): continue\n",
    "            triangles.append(sorted([first_node, second_node, third_node]))\n",
    "\n",
    "triangles.sort()\n",
    "triangles = list(k for k,_ in itertools.groupby(triangles))\n",
    "print('I got {} triangles, correct?'.format(len(triangles)))\n",
    "triangles"
   ]
  },
  {
   "cell_type": "code",
   "execution_count": null,
   "metadata": {
    "collapsed": true
   },
   "outputs": [],
   "source": []
  }
 ],
 "metadata": {
  "kernelspec": {
   "display_name": "Python 3",
   "language": "python",
   "name": "python3"
  },
  "language_info": {
   "codemirror_mode": {
    "name": "ipython",
    "version": 3
   },
   "file_extension": ".py",
   "mimetype": "text/x-python",
   "name": "python",
   "nbconvert_exporter": "python",
   "pygments_lexer": "ipython3",
   "version": "3.6.2"
  }
 },
 "nbformat": 4,
 "nbformat_minor": 2
}
